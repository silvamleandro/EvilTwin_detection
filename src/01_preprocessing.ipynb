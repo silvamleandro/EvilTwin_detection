{
 "cells": [
  {
   "cell_type": "markdown",
   "metadata": {
    "id": "MYX-csMgnlip"
   },
   "source": [
    "# SCC-ICMC-USP - 1st. Semester - 2023\n",
    "# SCC5948/MAI5024. Data Science - Final Work – **01.** Pre-Processing\n",
    "\n",
    "### Prof. PhD. Roseli Aparecida Francelin Romero\n",
    "\n",
    "### Monitor: Diogo Godoi\n",
    "\n",
    "Group Number: 12\n",
    "\n",
    "Students:\n",
    "\n",
    "1.   Leandro Marcos da Silva (**13702000**)\n",
    "2.   Vinícius Andreghetti (**9898012**)"
   ]
  },
  {
   "cell_type": "code",
   "execution_count": 1,
   "metadata": {
    "colab": {
     "base_uri": "https://localhost:8080/"
    },
    "executionInfo": {
     "elapsed": 23823,
     "status": "ok",
     "timestamp": 1683646966969,
     "user": {
      "displayName": "Leandro Marcos da Silva",
      "userId": "13234131702629272776"
     },
     "user_tz": -120
    },
    "id": "4V2RT-sgUUsl",
    "outputId": "4f1b5757-804c-4ef9-81a5-1e168e91de74"
   },
   "outputs": [],
   "source": [
    "# Imports\n",
    "from imblearn.under_sampling import RandomUnderSampler\n",
    "from pathlib import Path\n",
    "from sklearn.compose import ColumnTransformer\n",
    "from sklearn.impute import SimpleImputer\n",
    "from sklearn.model_selection import train_test_split\n",
    "from sklearn.pipeline import Pipeline\n",
    "from sklearn.preprocessing import MinMaxScaler, OneHotEncoder\n",
    "from utils import txt_to_list, read_data, split_X_y # utils.py\n",
    "\n",
    "import numpy as np\n",
    "import pandas as pd\n",
    "import warnings\n",
    "\n",
    "\n",
    "# Ignore Pandas warnings\n",
    "warnings.filterwarnings(\"ignore\")\n",
    "\n",
    "# Random state default\n",
    "RANDOM_STATE = 42"
   ]
  },
  {
   "cell_type": "markdown",
   "metadata": {
    "id": "IztWwhEJns9p"
   },
   "source": [
    "## Functions"
   ]
  },
  {
   "cell_type": "code",
   "execution_count": 2,
   "metadata": {
    "executionInfo": {
     "elapsed": 1720,
     "status": "ok",
     "timestamp": 1683647014677,
     "user": {
      "displayName": "Leandro Marcos da Silva",
      "userId": "13234131702629272776"
     },
     "user_tz": -120
    },
    "id": "nCbOtSfFnko0"
   },
   "outputs": [],
   "source": [
    "def convert_label_to_numeric(x):\n",
    "    if x == 'Normal': # Normal label\n",
    "        return 0\n",
    "    else:\n",
    "        return 1 # Evil Twin label\n",
    "\n",
    "\n",
    "\n",
    "def drop_highly_correlated_features(X):\n",
    "    # Create correlation matrix\n",
    "    corr_matrix = X.corr(numeric_only=False).abs()\n",
    "    # Select upper traingle of correlation matrix\n",
    "    upper = corr_matrix.where(np.triu(np.ones(corr_matrix.shape), k=1).astype(bool))\n",
    "    # Find index of columns with correlation greater than 0.95\n",
    "    to_drop = [column for column in upper.columns if any(upper[column] > 0.95)]\n",
    "    # Drop the columns\n",
    "    X.drop(columns=list(to_drop), axis=1, inplace=True)\n",
    "    # Return X after dropping columns with high correlation\n",
    "    return X\n",
    "\n",
    "\n",
    "\n",
    "\n",
    "def pre_processing(df):\n",
    "    # Drop constant columns\n",
    "    df = df.loc[:, df.apply(pd.Series.nunique) != 1]\n",
    "    # Drop rows with null labels\n",
    "    df.dropna(subset=['Label'], inplace=True)\n",
    "    \n",
    "    # Carry out the treatment of the 'radiotap.dbm_antsignal' column\n",
    "    # Convert to string to use split\n",
    "    df['radiotap.dbm_antsignal'] = df['radiotap.dbm_antsignal'].astype(str)\n",
    "    # Get only the first occurrence of the value\n",
    "    df['radiotap.dbm_antsignal'] = df['radiotap.dbm_antsignal'].str.split('-').str[1]\n",
    "    # Add the negative sign (-)\n",
    "    df['radiotap.dbm_antsignal'] = '-' + df['radiotap.dbm_antsignal']\n",
    "     # Convert back to float, because it is numeric\n",
    "    df['radiotap.dbm_antsignal'] = df['radiotap.dbm_antsignal'].astype(float)\n",
    "\n",
    "    # Create the pipelines\n",
    "    numerical_pipeline = Pipeline(steps=[ # Numerical pipeline\n",
    "        ('imputer', SimpleImputer(strategy='mean')), # Mean strategy\n",
    "        ('scaler', MinMaxScaler())]) # Scale the range of variables\n",
    "\n",
    "    categorical_pipeline = Pipeline(steps=[ # Categorial pipeline\n",
    "        ('imputer', SimpleImputer(strategy='most_frequent')), # Most frequent strategy\n",
    "        ('onehot', OneHotEncoder())]) # Convert categorical data to a numerical representation\n",
    "\n",
    "    # Numerical features\n",
    "    numerical_features = ['frame.len', 'radiotap.dbm_antsignal', 'radiotap.length', 'wlan.duration']\n",
    "    # Categorical features\n",
    "    categorical_features = list(set(df.columns) - set(numerical_features))\n",
    "    categorical_features.remove('Label') # Remove 'Label' from the list\n",
    "\n",
    "    # Create the dataset transformation\n",
    "    transformation = ColumnTransformer(\n",
    "        transformers=[\n",
    "            ('numerical transformation', numerical_pipeline, numerical_features),\n",
    "            ('categorical transformation', categorical_pipeline, categorical_features),        \n",
    "        ])\n",
    "\n",
    "    new_columns = list() # List to update columns after one-hot encoder\n",
    "    new_columns.extend(numerical_features) # Make a copy of numeric columns\n",
    "\n",
    "    for column in categorical_features: # For each categorical column\n",
    "        # Concatenate the column with its respective category\n",
    "        new_columns += sorted([f\"{column}_{cat}\" for cat in list(df[column].unique())])\n",
    "\n",
    "    # Remove columns that contain the word 'nan'\n",
    "    new_columns = [x for x in new_columns if \"nan\" not in x]\n",
    "    # Add 'Label' to the column list\n",
    "    new_columns.append(\"Label\")\n",
    "\n",
    "    # Apply the transformation to the dataset\n",
    "    transformed_data = transformation.fit_transform(df)\n",
    "    # Rounding numeric data to 5 decimal places\n",
    "    transformed_data = transformed_data.round(5)\n",
    "    # Add column 'Label' in transformed dataset\n",
    "    transformed_data_with_label = np.c_[transformed_data, df['Label']]\n",
    "    # Convert Dataset from NumPy Array to DataFrame\n",
    "    new_df = pd.DataFrame(data=transformed_data_with_label, columns=new_columns)\n",
    "    # Convert labels to numeric values\n",
    "    new_df['Label'] = new_df['Label'].apply(convert_label_to_numeric)\n",
    "\n",
    "    # Return data after pre-processing\n",
    "    return new_df\n",
    "\n",
    "\n",
    "\n",
    "def generate_train_test_data(X, y, save_path):\n",
    "    # Training and test split\n",
    "    X_train, X_test, y_train, y_test = train_test_split(X, y, test_size=0.30, stratify=y, random_state=RANDOM_STATE)\n",
    "    # Apply Random Undersampling (RUS) - Highest label with 150% of the lowest sample\n",
    "    # sampling_strategy = number of samples from the lowest label / number of samples from the highest label after resampling\n",
    "    X_res, y_res = RandomUnderSampler(random_state=RANDOM_STATE, sampling_strategy=len(np.where(y == 1)[0]) / (len(np.where(y == 1)[0]) * 1.5)).fit_resample(X_train, y_train)\n",
    "    # RUS was applied to work with the amount of data in RAM\n",
    "    # In training and test, data will be balanced with K-Means SMOTE\n",
    "    \n",
    "    # Drop constant columns (again) after pre-processing\n",
    "    X_res = X_res.loc[:, X_res.apply(pd.Series.nunique) != 1]\n",
    "    # Select only columns present in the training dataset\n",
    "    X_test = X_test[list(X_res.columns)]\n",
    "    # Save test dataset in .csv \n",
    "    X_test['Label'] = y_test\n",
    "    X_test.to_csv(f'{save_path}test_data.csv', index=False)\n",
    "    # Save training dataset in .csv (almost balanced)\n",
    "    X_res['Label'] = y_res\n",
    "    X_res.to_csv(f'{save_path}train_data.csv', index=False)\n",
    "    print('> Training and test data has been saved!')\n",
    "    \n",
    "    # Return training and test data\n",
    "    return X_res, X_test"
   ]
  },
  {
   "cell_type": "markdown",
   "metadata": {
    "id": "_hX16PSQoJ0N"
   },
   "source": [
    "## Main\n",
    "\n",
    "Useful features:\n",
    "1. frame.len;\n",
    "2. radiotap.length;\n",
    "3. radiotap.dbm_antsignal;\n",
    "4. wlan.duration;\n",
    "5. radiotap.present.tsft;\n",
    "6. radiotap.channel.freq;\n",
    "7. radiotap.channel.flags.cck;\n",
    "8. radiotap.channel.type.ofdm;\n",
    "9. wlan.fc.type;\n",
    "10. wlan.fc.subtype;\n",
    "11. wlan.fc.ds;\n",
    "12. wlan.fc.frag;\n",
    "13. wlan.fc.retry;\n",
    "14. wlan.fc.pwrmgt;\n",
    "15. wlan.fc.moredata;\n",
    "16. wlan.fc.protected.\n"
   ]
  },
  {
   "cell_type": "code",
   "execution_count": 3,
   "metadata": {
    "executionInfo": {
     "elapsed": 97315,
     "status": "ok",
     "timestamp": 1683647115804,
     "user": {
      "displayName": "Leandro Marcos da Silva",
      "userId": "13234131702629272776"
     },
     "user_tz": -120
    },
    "id": "9FZihCo5l__a"
   },
   "outputs": [],
   "source": [
    "# General path\n",
    "path = f'{str(Path.home())}/EvilTwin_detection/'\n",
    "# Original data path\n",
    "original_data_path = f'{path}data/original/AWID3_Dataset_CSV/'\n",
    "# Pre-processed data path\n",
    "preprocessed_data_path = f'{path}data/pre_processed/'\n",
    "\n",
    "# Features (useful columns) used\n",
    "# Selected based on: Pick Quality Over Quantity: Expert Feature Selection and Data Preprocessing for 802.11 Intrusion Detection Systems\n",
    "# > https://ieeexplore.ieee.org/stamp/stamp.jsp?tp=&arnumber=9797689\n",
    "useful_features = txt_to_list(f'{original_data_path}code-features/features/useful_features.txt')\n",
    "\n",
    "# Data after loading\n",
    "awid_df = read_data(f'{original_data_path}CSV/12.Evil_Twin/', useful_features)"
   ]
  },
  {
   "cell_type": "code",
   "execution_count": 4,
   "metadata": {},
   "outputs": [
    {
     "data": {
      "text/html": [
       "<div>\n",
       "<style scoped>\n",
       "    .dataframe tbody tr th:only-of-type {\n",
       "        vertical-align: middle;\n",
       "    }\n",
       "\n",
       "    .dataframe tbody tr th {\n",
       "        vertical-align: top;\n",
       "    }\n",
       "\n",
       "    .dataframe thead th {\n",
       "        text-align: right;\n",
       "    }\n",
       "</style>\n",
       "<table border=\"1\" class=\"dataframe\">\n",
       "  <thead>\n",
       "    <tr style=\"text-align: right;\">\n",
       "      <th></th>\n",
       "      <th>frame.len</th>\n",
       "      <th>radiotap.channel.flags.cck</th>\n",
       "      <th>radiotap.channel.flags.ofdm</th>\n",
       "      <th>radiotap.channel.freq</th>\n",
       "      <th>radiotap.dbm_antsignal</th>\n",
       "      <th>radiotap.length</th>\n",
       "      <th>radiotap.present.tsft</th>\n",
       "      <th>wlan.duration</th>\n",
       "      <th>wlan.fc.ds</th>\n",
       "      <th>wlan.fc.frag</th>\n",
       "      <th>wlan.fc.moredata</th>\n",
       "      <th>wlan.fc.protected</th>\n",
       "      <th>wlan.fc.pwrmgt</th>\n",
       "      <th>wlan.fc.type</th>\n",
       "      <th>wlan.fc.retry</th>\n",
       "      <th>wlan.fc.subtype</th>\n",
       "      <th>Label</th>\n",
       "    </tr>\n",
       "  </thead>\n",
       "  <tbody>\n",
       "    <tr>\n",
       "      <th>0</th>\n",
       "      <td>342.0</td>\n",
       "      <td>0.0</td>\n",
       "      <td>1.0</td>\n",
       "      <td>5180.0</td>\n",
       "      <td>-111</td>\n",
       "      <td>56.0</td>\n",
       "      <td>1-0-0</td>\n",
       "      <td>0.0</td>\n",
       "      <td>0x00000000</td>\n",
       "      <td>0.0</td>\n",
       "      <td>0.0</td>\n",
       "      <td>0.0</td>\n",
       "      <td>0.0</td>\n",
       "      <td>0.0</td>\n",
       "      <td>0.0</td>\n",
       "      <td>8.0</td>\n",
       "      <td>Normal</td>\n",
       "    </tr>\n",
       "    <tr>\n",
       "      <th>1</th>\n",
       "      <td>138.0</td>\n",
       "      <td>0.0</td>\n",
       "      <td>1.0</td>\n",
       "      <td>5180.0</td>\n",
       "      <td>-111</td>\n",
       "      <td>56.0</td>\n",
       "      <td>1-0-0</td>\n",
       "      <td>0.0</td>\n",
       "      <td>0x00000002</td>\n",
       "      <td>0.0</td>\n",
       "      <td>0.0</td>\n",
       "      <td>1.0</td>\n",
       "      <td>0.0</td>\n",
       "      <td>2.0</td>\n",
       "      <td>0.0</td>\n",
       "      <td>0.0</td>\n",
       "      <td>Normal</td>\n",
       "    </tr>\n",
       "    <tr>\n",
       "      <th>2</th>\n",
       "      <td>342.0</td>\n",
       "      <td>0.0</td>\n",
       "      <td>1.0</td>\n",
       "      <td>5180.0</td>\n",
       "      <td>-108</td>\n",
       "      <td>56.0</td>\n",
       "      <td>1-0-0</td>\n",
       "      <td>0.0</td>\n",
       "      <td>0x00000000</td>\n",
       "      <td>0.0</td>\n",
       "      <td>0.0</td>\n",
       "      <td>0.0</td>\n",
       "      <td>0.0</td>\n",
       "      <td>0.0</td>\n",
       "      <td>0.0</td>\n",
       "      <td>8.0</td>\n",
       "      <td>Normal</td>\n",
       "    </tr>\n",
       "    <tr>\n",
       "      <th>3</th>\n",
       "      <td>136.0</td>\n",
       "      <td>0.0</td>\n",
       "      <td>1.0</td>\n",
       "      <td>5180.0</td>\n",
       "      <td>-108</td>\n",
       "      <td>56.0</td>\n",
       "      <td>1-0-0</td>\n",
       "      <td>0.0</td>\n",
       "      <td>0x00000002</td>\n",
       "      <td>0.0</td>\n",
       "      <td>0.0</td>\n",
       "      <td>1.0</td>\n",
       "      <td>0.0</td>\n",
       "      <td>2.0</td>\n",
       "      <td>0.0</td>\n",
       "      <td>0.0</td>\n",
       "      <td>Normal</td>\n",
       "    </tr>\n",
       "    <tr>\n",
       "      <th>4</th>\n",
       "      <td>342.0</td>\n",
       "      <td>0.0</td>\n",
       "      <td>1.0</td>\n",
       "      <td>5180.0</td>\n",
       "      <td>-109</td>\n",
       "      <td>56.0</td>\n",
       "      <td>1-0-0</td>\n",
       "      <td>0.0</td>\n",
       "      <td>0x00000000</td>\n",
       "      <td>0.0</td>\n",
       "      <td>0.0</td>\n",
       "      <td>0.0</td>\n",
       "      <td>0.0</td>\n",
       "      <td>0.0</td>\n",
       "      <td>0.0</td>\n",
       "      <td>8.0</td>\n",
       "      <td>Normal</td>\n",
       "    </tr>\n",
       "  </tbody>\n",
       "</table>\n",
       "</div>"
      ],
      "text/plain": [
       "   frame.len  radiotap.channel.flags.cck  radiotap.channel.flags.ofdm  \\\n",
       "0      342.0                         0.0                          1.0   \n",
       "1      138.0                         0.0                          1.0   \n",
       "2      342.0                         0.0                          1.0   \n",
       "3      136.0                         0.0                          1.0   \n",
       "4      342.0                         0.0                          1.0   \n",
       "\n",
       "   radiotap.channel.freq radiotap.dbm_antsignal  radiotap.length  \\\n",
       "0                 5180.0                   -111             56.0   \n",
       "1                 5180.0                   -111             56.0   \n",
       "2                 5180.0                   -108             56.0   \n",
       "3                 5180.0                   -108             56.0   \n",
       "4                 5180.0                   -109             56.0   \n",
       "\n",
       "  radiotap.present.tsft  wlan.duration  wlan.fc.ds  wlan.fc.frag  \\\n",
       "0                 1-0-0            0.0  0x00000000           0.0   \n",
       "1                 1-0-0            0.0  0x00000002           0.0   \n",
       "2                 1-0-0            0.0  0x00000000           0.0   \n",
       "3                 1-0-0            0.0  0x00000002           0.0   \n",
       "4                 1-0-0            0.0  0x00000000           0.0   \n",
       "\n",
       "   wlan.fc.moredata  wlan.fc.protected  wlan.fc.pwrmgt  wlan.fc.type  \\\n",
       "0               0.0                0.0             0.0           0.0   \n",
       "1               0.0                1.0             0.0           2.0   \n",
       "2               0.0                0.0             0.0           0.0   \n",
       "3               0.0                1.0             0.0           2.0   \n",
       "4               0.0                0.0             0.0           0.0   \n",
       "\n",
       "   wlan.fc.retry  wlan.fc.subtype   Label  \n",
       "0            0.0              8.0  Normal  \n",
       "1            0.0              0.0  Normal  \n",
       "2            0.0              8.0  Normal  \n",
       "3            0.0              0.0  Normal  \n",
       "4            0.0              8.0  Normal  "
      ]
     },
     "execution_count": 4,
     "metadata": {},
     "output_type": "execute_result"
    }
   ],
   "source": [
    "# Show the first rows of the dataset\n",
    "awid_df.head()"
   ]
  },
  {
   "cell_type": "code",
   "execution_count": 5,
   "metadata": {},
   "outputs": [
    {
     "name": "stdout",
     "output_type": "stream",
     "text": [
      "<class 'pandas.core.frame.DataFrame'>\n",
      "Int64Index: 3778706 entries, 0 to 49999\n",
      "Data columns (total 17 columns):\n",
      " #   Column                       Dtype  \n",
      "---  ------                       -----  \n",
      " 0   frame.len                    float64\n",
      " 1   radiotap.channel.flags.cck   float64\n",
      " 2   radiotap.channel.flags.ofdm  float64\n",
      " 3   radiotap.channel.freq        float64\n",
      " 4   radiotap.dbm_antsignal       object \n",
      " 5   radiotap.length              float64\n",
      " 6   radiotap.present.tsft        object \n",
      " 7   wlan.duration                float64\n",
      " 8   wlan.fc.ds                   object \n",
      " 9   wlan.fc.frag                 float64\n",
      " 10  wlan.fc.moredata             float64\n",
      " 11  wlan.fc.protected            float64\n",
      " 12  wlan.fc.pwrmgt               float64\n",
      " 13  wlan.fc.type                 float64\n",
      " 14  wlan.fc.retry                float64\n",
      " 15  wlan.fc.subtype              float64\n",
      " 16  Label                        object \n",
      "dtypes: float64(13), object(4)\n",
      "memory usage: 518.9+ MB\n"
     ]
    }
   ],
   "source": [
    "# Information about the dataset\n",
    "awid_df.info()"
   ]
  },
  {
   "cell_type": "code",
   "execution_count": 6,
   "metadata": {},
   "outputs": [
    {
     "data": {
      "text/plain": [
       "frame.len                      16\n",
       "radiotap.channel.flags.cck     16\n",
       "radiotap.channel.flags.ofdm    16\n",
       "radiotap.channel.freq          16\n",
       "radiotap.dbm_antsignal         16\n",
       "radiotap.length                16\n",
       "radiotap.present.tsft          16\n",
       "wlan.duration                  16\n",
       "wlan.fc.ds                     16\n",
       "wlan.fc.frag                   16\n",
       "wlan.fc.moredata               16\n",
       "wlan.fc.protected              16\n",
       "wlan.fc.pwrmgt                 16\n",
       "wlan.fc.type                   16\n",
       "wlan.fc.retry                  16\n",
       "wlan.fc.subtype                16\n",
       "Label                          25\n",
       "dtype: int64"
      ]
     },
     "execution_count": 6,
     "metadata": {},
     "output_type": "execute_result"
    }
   ],
   "source": [
    "# Count NaN values\n",
    "# Mean (numerical data) and most frequent (categorical data) strategies will be applied to work with null data\n",
    "awid_df.isna().sum()\n",
    "# There are few null data, but strategies will be applied to use the learned techniques"
   ]
  },
  {
   "cell_type": "code",
   "execution_count": 7,
   "metadata": {
    "executionInfo": {
     "elapsed": 35319,
     "status": "ok",
     "timestamp": 1683647157196,
     "user": {
      "displayName": "Leandro Marcos da Silva",
      "userId": "13234131702629272776"
     },
     "user_tz": -120
    },
    "id": "8-M-CRjHw2cG"
   },
   "outputs": [],
   "source": [
    "# Apply pre-processing to the dataset\n",
    "awid_df = pre_processing(awid_df)"
   ]
  },
  {
   "cell_type": "code",
   "execution_count": 8,
   "metadata": {
    "scrolled": false
   },
   "outputs": [
    {
     "name": "stdout",
     "output_type": "stream",
     "text": [
      "0    3673854\n",
      "1     104827\n",
      "Name: Label, dtype: int64\n"
     ]
    },
    {
     "data": {
      "image/png": "[encoded data removed]",
      "text/plain": [
       "<Figure size 640x480 with 1 Axes>"
      ]
     },
     "metadata": {},
     "output_type": "display_data"
    }
   ],
   "source": [
    "# Convert 'Label' column to integer\n",
    "# Label count\n",
    "print(awid_df['Label'].value_counts())\n",
    "# Show graph\n",
    "awid_df.hist('Label');"
   ]
  },
  {
   "cell_type": "code",
   "execution_count": 9,
   "metadata": {},
   "outputs": [],
   "source": [
    "# Drop duplicate rows\n",
    "awid_df.drop_duplicates(inplace=True)\n",
    "# Split into X and y\n",
    "X, y = split_X_y(awid_df)\n",
    "# Drop highly correlated features\n",
    "X = drop_highly_correlated_features(X)"
   ]
  },
  {
   "cell_type": "code",
   "execution_count": 10,
   "metadata": {
    "colab": {
     "base_uri": "https://localhost:8080/"
    },
    "executionInfo": {
     "elapsed": 31231,
     "status": "ok",
     "timestamp": 1683647213322,
     "user": {
      "displayName": "Leandro Marcos da Silva",
      "userId": "13234131702629272776"
     },
     "user_tz": -120
    },
    "id": "YP68It18DSKm",
    "outputId": "7e0b4eef-0ea6-40d8-a3e0-2990740e422d"
   },
   "outputs": [
    {
     "name": "stdout",
     "output_type": "stream",
     "text": [
      "> Training and test data has been saved!\n"
     ]
    }
   ],
   "source": [
    "# Generate and save training and test data\n",
    "train_data, test_data = generate_train_test_data(X, y, f'{preprocessed_data_path}')"
   ]
  },
  {
   "cell_type": "code",
   "execution_count": null,
   "metadata": {},
   "outputs": [],
   "source": []
  }
 ],
 "metadata": {
  "colab": {
   "provenance": []
  },
  "kernelspec": {
   "display_name": "Python 3 (ipykernel)",
   "language": "python",
   "name": "python3"
  },
  "language_info": {
   "codemirror_mode": {
    "name": "ipython",
    "version": 3
   },
   "file_extension": ".py",
   "mimetype": "text/x-python",
   "name": "python",
   "nbconvert_exporter": "python",
   "pygments_lexer": "ipython3",
   "version": "3.10.6"
  }
 },
 "nbformat": 4,
 "nbformat_minor": 1
}
