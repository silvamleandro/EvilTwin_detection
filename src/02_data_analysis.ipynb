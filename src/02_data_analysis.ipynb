{
 "cells": [
  {
   "cell_type": "markdown",
   "metadata": {
    "id": "MYX-csMgnlip"
   },
   "source": [
    "# SCC-ICMC-USP - 1st. Semester - 2023\n",
    "# SCC5948/MAI5024. Data Science - Final Work – **02.** Data Analysis\n",
    "\n",
    "### Prof. PhD. Roseli Aparecida Francelin Romero\n",
    "\n",
    "### Monitor: Diogo Godoi\n",
    "\n",
    "Group Number: 12\n",
    "\n",
    "Students:\n",
    "\n",
    "1.   Leandro Marcos da Silva (**13702000**)\n",
    "2.   Vinícius Andreghetti (**9898012**)"
   ]
  },
  {
   "cell_type": "markdown",
   "metadata": {
    "id": "ds7J0BOo_v3U"
   },
   "source": [
    "## Imports"
   ]
  },
  {
   "cell_type": "code",
   "execution_count": 1,
   "metadata": {
    "colab": {
     "base_uri": "https://localhost:8080/"
    },
    "id": "4V2RT-sgUUsl",
    "outputId": "d8a748f8-4299-4111-d837-0206f04be8d3"
   },
   "outputs": [
    {
     "name": "stderr",
     "output_type": "stream",
     "text": [
      "/home/leandro/venv/lib/python3.10/site-packages/numba/core/decorators.py:262: NumbaDeprecationWarning: numba.generated_jit is deprecated. Please see the documentation at: https://numba.readthedocs.io/en/stable/reference/deprecation.html#deprecation-of-generated-jit for more information and advice on a suitable replacement.\n",
      "  warnings.warn(msg, NumbaDeprecationWarning)\n",
      "/home/leandro/venv/lib/python3.10/site-packages/visions/backends/shared/nan_handling.py:51: NumbaDeprecationWarning: The 'nopython' keyword argument was not supplied to the 'numba.jit' decorator. The implicit default value for this argument is currently False, but it will be changed to True in Numba 0.59.0. See https://numba.readthedocs.io/en/stable/reference/deprecation.html#deprecation-of-object-mode-fall-back-behaviour-when-using-jit for details.\n",
      "  def hasna(x: np.ndarray) -> bool:\n"
     ]
    }
   ],
   "source": [
    "# Imports\n",
    "from pathlib import Path\n",
    "from ydata_profiling import ProfileReport\n",
    "\n",
    "import numpy as np\n",
    "import pandas as pd\n",
    "import warnings\n",
    "\n",
    "\n",
    "# Ignore Pandas warnings\n",
    "warnings.filterwarnings(\"ignore\")\n",
    "\n",
    "# Random state default\n",
    "RANDOM_STATE = 42"
   ]
  },
  {
   "cell_type": "markdown",
   "metadata": {
    "id": "IztWwhEJns9p"
   },
   "source": [
    "## Functions"
   ]
  },
  {
   "cell_type": "code",
   "execution_count": 2,
   "metadata": {
    "id": "nCbOtSfFnko0"
   },
   "outputs": [],
   "source": [
    "def find_outliers(df):\n",
    "    # Find outliers using InterQuartile Range (IQR)\n",
    "    q1 = df.quantile(0.25) # First quartile\n",
    "    q3 = df.quantile(0.75) # Third quartile\n",
    "    iqr = q3 - q1 # Calculate IQR\n",
    "    \n",
    "    # Find and return outliers\n",
    "    return df[((df < (q1 - 1.5 * iqr)) | (df > (q3 + 1.5 * iqr)))]"
   ]
  },
  {
   "cell_type": "markdown",
   "metadata": {
    "id": "_hX16PSQoJ0N"
   },
   "source": [
    "## Main"
   ]
  },
  {
   "cell_type": "code",
   "execution_count": 3,
   "metadata": {
    "id": "9FZihCo5l__a"
   },
   "outputs": [],
   "source": [
    "# General path\n",
    "path = f'{str(Path.home())}/EvilTwin_detection/'\n",
    "# Pre-processed data path\n",
    "preprocessed_data_path = f'{path}data/pre_processed/'\n",
    "\n",
    "# Load pre-processed training dataset\n",
    "test_df = pd.read_csv(preprocessed_data_path + 'test_data.csv')\n",
    "# Load pre-processed test dataset\n",
    "train_df = pd.read_csv(preprocessed_data_path + 'train_data.csv')\n",
    "\n",
    "# Recombining both training and test data to execute data analysis\n",
    "awid_df = pd.concat([test_df, train_df])"
   ]
  },
  {
   "cell_type": "code",
   "execution_count": 4,
   "metadata": {
    "id": "7V_9_tFCbuqd"
   },
   "outputs": [
    {
     "data": {
      "application/vnd.jupyter.widget-view+json": {
       "model_id": "618df8cab8ab4a29b5ed0afdd23a343a",
       "version_major": 2,
       "version_minor": 0
      },
      "text/plain": [
       "Summarize dataset:   0%|          | 0/5 [00:00<?, ?it/s]"
      ]
     },
     "metadata": {},
     "output_type": "display_data"
    },
    {
     "data": {
      "application/vnd.jupyter.widget-view+json": {
       "model_id": "41485f2359bf495abfbd0baff1f5cf5d",
       "version_major": 2,
       "version_minor": 0
      },
      "text/plain": [
       "Generate report structure:   0%|          | 0/1 [00:00<?, ?it/s]"
      ]
     },
     "metadata": {},
     "output_type": "display_data"
    },
    {
     "data": {
      "application/vnd.jupyter.widget-view+json": {
       "model_id": "4742b0826ad9483eb098d48d578311d5",
       "version_major": 2,
       "version_minor": 0
      },
      "text/plain": [
       "Render HTML:   0%|          | 0/1 [00:00<?, ?it/s]"
      ]
     },
     "metadata": {},
     "output_type": "display_data"
    },
    {
     "data": {
      "application/vnd.jupyter.widget-view+json": {
       "model_id": "de61999f9d8a4b31b394267777046d1b",
       "version_major": 2,
       "version_minor": 0
      },
      "text/plain": [
       "Export report to file:   0%|          | 0/1 [00:00<?, ?it/s]"
      ]
     },
     "metadata": {},
     "output_type": "display_data"
    }
   ],
   "source": [
    "# Generate and save data profiling report\n",
    "profile = ProfileReport(awid_df, title=\"Profiling Report - Data\")\n",
    "profile.to_file(f'{path}reports/data_report.html')"
   ]
  },
  {
   "cell_type": "markdown",
   "metadata": {
    "id": "X4juxf3q_n0F"
   },
   "source": [
    "## Dataframe Info"
   ]
  },
  {
   "cell_type": "code",
   "execution_count": 5,
   "metadata": {
    "colab": {
     "base_uri": "https://localhost:8080/"
    },
    "id": "jghQkeg6_eJZ",
    "outputId": "dfddf487-4310-41cb-a43e-22bafe1f8fce"
   },
   "outputs": [
    {
     "name": "stdout",
     "output_type": "stream",
     "text": [
      "<class 'pandas.core.frame.DataFrame'>\n",
      "Int64Index: 27958 entries, 0 to 3146\n",
      "Data columns (total 24 columns):\n",
      " #   Column                  Non-Null Count  Dtype  \n",
      "---  ------                  --------------  -----  \n",
      " 0   frame.len               27958 non-null  float64\n",
      " 1   radiotap.dbm_antsignal  27958 non-null  float64\n",
      " 2   radiotap.length         27958 non-null  float64\n",
      " 3   wlan.duration           27958 non-null  float64\n",
      " 4   wlan.fc.moredata_0.0    27958 non-null  float64\n",
      " 5   wlan.fc.retry_0.0       27958 non-null  float64\n",
      " 6   wlan.fc.pwrmgt_0.0      27958 non-null  float64\n",
      " 7   wlan.fc.protected_0.0   27958 non-null  float64\n",
      " 8   wlan.fc.subtype_0.0     27958 non-null  float64\n",
      " 9   wlan.fc.subtype_12.0    27958 non-null  float64\n",
      " 10  wlan.fc.subtype_13.0    27958 non-null  float64\n",
      " 11  wlan.fc.subtype_14.0    27958 non-null  float64\n",
      " 12  wlan.fc.subtype_15.0    27958 non-null  float64\n",
      " 13  wlan.fc.subtype_2.0     27958 non-null  float64\n",
      " 14  wlan.fc.subtype_3.0     27958 non-null  float64\n",
      " 15  wlan.fc.subtype_4.0     27958 non-null  float64\n",
      " 16  wlan.fc.subtype_5.0     27958 non-null  float64\n",
      " 17  wlan.fc.subtype_8.0     27958 non-null  float64\n",
      " 18  wlan.fc.ds_0x00000001   27958 non-null  float64\n",
      " 19  wlan.fc.ds_0x00000002   27958 non-null  float64\n",
      " 20  wlan.fc.ds_0x00000003   27958 non-null  float64\n",
      " 21  wlan.fc.frag_0.0        27958 non-null  float64\n",
      " 22  wlan.fc.type_0.0        27958 non-null  float64\n",
      " 23  Label                   27958 non-null  int64  \n",
      "dtypes: float64(23), int64(1)\n",
      "memory usage: 6.3 MB\n"
     ]
    }
   ],
   "source": [
    "awid_df.info()"
   ]
  },
  {
   "cell_type": "markdown",
   "metadata": {
    "id": "27emEozA_thy"
   },
   "source": [
    "## Dataframe Description"
   ]
  },
  {
   "cell_type": "code",
   "execution_count": 6,
   "metadata": {},
   "outputs": [
    {
     "name": "stdout",
     "output_type": "stream",
     "text": [
      "          frame.len  radiotap.dbm_antsignal  radiotap.length  wlan.duration  \\\n",
      "count  27958.000000            27958.000000     27958.000000   27958.000000   \n",
      "mean       0.074655                0.427583         0.729469       0.021321   \n",
      "std        0.115183                0.247451         0.249590       0.042656   \n",
      "min        0.000000                0.017860         0.000000       0.000000   \n",
      "25%        0.000000                0.209820         0.500000       0.001540   \n",
      "50%        0.023290                0.325890         0.500000       0.003530   \n",
      "75%        0.104270                0.660710         1.000000       0.018550   \n",
      "max        0.865220                1.000000         1.000000       1.000000   \n",
      "\n",
      "       wlan.fc.moredata_0.0  wlan.fc.retry_0.0  wlan.fc.pwrmgt_0.0  \\\n",
      "count          27958.000000       27958.000000        27958.000000   \n",
      "mean               0.994957           0.886723            0.993204   \n",
      "std                0.070838           0.316937            0.082158   \n",
      "min                0.000000           0.000000            0.000000   \n",
      "25%                1.000000           1.000000            1.000000   \n",
      "50%                1.000000           1.000000            1.000000   \n",
      "75%                1.000000           1.000000            1.000000   \n",
      "max                1.000000           1.000000            1.000000   \n",
      "\n",
      "       wlan.fc.protected_0.0  wlan.fc.subtype_0.0  wlan.fc.subtype_12.0  ...  \\\n",
      "count           27958.000000         27958.000000          27958.000000  ...   \n",
      "mean                0.555619             0.009979              0.004650  ...   \n",
      "std                 0.496906             0.099398              0.068032  ...   \n",
      "min                 0.000000             0.000000              0.000000  ...   \n",
      "25%                 0.000000             0.000000              0.000000  ...   \n",
      "50%                 1.000000             0.000000              0.000000  ...   \n",
      "75%                 1.000000             0.000000              0.000000  ...   \n",
      "max                 1.000000             1.000000              1.000000  ...   \n",
      "\n",
      "       wlan.fc.subtype_3.0  wlan.fc.subtype_4.0  wlan.fc.subtype_5.0  \\\n",
      "count         27958.000000         27958.000000         27958.000000   \n",
      "mean              0.147078             0.322519             0.004864   \n",
      "std               0.354190             0.467449             0.069577   \n",
      "min               0.000000             0.000000             0.000000   \n",
      "25%               0.000000             0.000000             0.000000   \n",
      "50%               0.000000             0.000000             0.000000   \n",
      "75%               0.000000             1.000000             0.000000   \n",
      "max               1.000000             1.000000             1.000000   \n",
      "\n",
      "       wlan.fc.subtype_8.0  wlan.fc.ds_0x00000001  wlan.fc.ds_0x00000002  \\\n",
      "count         27958.000000           27958.000000           27958.000000   \n",
      "mean              0.000787               0.372094               0.140783   \n",
      "std               0.028041               0.483372               0.347803   \n",
      "min               0.000000               0.000000               0.000000   \n",
      "25%               0.000000               0.000000               0.000000   \n",
      "50%               0.000000               0.000000               0.000000   \n",
      "75%               0.000000               1.000000               0.000000   \n",
      "max               1.000000               1.000000               1.000000   \n",
      "\n",
      "       wlan.fc.ds_0x00000003  wlan.fc.frag_0.0  wlan.fc.type_0.0         Label  \n",
      "count           27958.000000      27958.000000      27958.000000  27958.000000  \n",
      "mean                0.001002          0.999177          0.009943      0.064311  \n",
      "std                 0.031631          0.028671          0.099222      0.245310  \n",
      "min                 0.000000          0.000000          0.000000      0.000000  \n",
      "25%                 0.000000          1.000000          0.000000      0.000000  \n",
      "50%                 0.000000          1.000000          0.000000      0.000000  \n",
      "75%                 0.000000          1.000000          0.000000      0.000000  \n",
      "max                 1.000000          1.000000          1.000000      1.000000  \n",
      "\n",
      "[8 rows x 24 columns]\n"
     ]
    }
   ],
   "source": [
    "print(awid_df.describe())"
   ]
  },
  {
   "cell_type": "code",
   "execution_count": 7,
   "metadata": {
    "colab": {
     "base_uri": "https://localhost:8080/",
     "height": 394
    },
    "id": "T66bir7qf-QC",
    "outputId": "b0f34108-e65b-4d1e-e153-1840565e614f"
   },
   "outputs": [
    {
     "name": "stdout",
     "output_type": "stream",
     "text": [
      "COLUMN                 | AVERAGE\t|MEDIAN\t| MODE\t| SKEWNESS\t| KURTOSIS\t|\n",
      "----------------------------------------------------------------------------------------------------\n",
      "frame.len              | 0.075\t| 0.023\t| 0.000\t| 01.840\t| 03.103\t|\n",
      "radiotap.dbm_antsignal | 0.428\t| 0.326\t| 0.670\t| 00.682\t| -0.799\t|\n",
      "radiotap.length        | 0.729\t| 0.500\t| 0.500\t| 00.154\t| -1.949\t|\n",
      "wlan.duration          | 0.021\t| 0.004\t| 0.002\t| 05.083\t| 57.990\t|\n",
      "wlan.fc.moredata_0.0   | 0.995\t| 1.000\t| 1.000\t| -13.975\t| 193.289\t|\n",
      "wlan.fc.retry_0.0      | 0.887\t| 1.000\t| 1.000\t| -2.440\t| 03.956\t|\n",
      "wlan.fc.pwrmgt_0.0     | 0.993\t| 1.000\t| 1.000\t| -12.006\t| 142.154\t|\n",
      "wlan.fc.protected_0.0  | 0.556\t| 1.000\t| 1.000\t| -0.224\t| -1.950\t|\n",
      "wlan.fc.subtype_0.0    | 0.010\t| 0.000\t| 0.000\t| 09.860\t| 95.218\t|\n",
      "wlan.fc.subtype_12.0   | 0.005\t| 0.000\t| 0.000\t| 14.562\t| 210.066\t|\n",
      "wlan.fc.subtype_13.0   | 0.002\t| 0.000\t| 0.000\t| 20.667\t| 425.125\t|\n",
      "wlan.fc.subtype_14.0   | 0.498\t| 0.000\t| 0.000\t| 00.008\t| -2.000\t|\n",
      "wlan.fc.subtype_15.0   | 0.009\t| 0.000\t| 0.000\t| 10.677\t| 111.988\t|\n",
      "wlan.fc.subtype_2.0    | 0.001\t| 0.000\t| 0.000\t| 32.132\t| 1030.482\t|\n",
      "wlan.fc.subtype_3.0    | 0.147\t| 0.000\t| 0.000\t| 01.993\t| 01.972\t|\n",
      "wlan.fc.subtype_4.0    | 0.323\t| 0.000\t| 0.000\t| 00.759\t| -1.423\t|\n",
      "wlan.fc.subtype_5.0    | 0.005\t| 0.000\t| 0.000\t| 14.233\t| 200.578\t|\n",
      "wlan.fc.subtype_8.0    | 0.001\t| 0.000\t| 0.000\t| 35.606\t| 1265.819\t|\n",
      "wlan.fc.ds_0x00000001  | 0.372\t| 0.000\t| 0.000\t| 00.529\t| -1.720\t|\n",
      "wlan.fc.ds_0x00000002  | 0.141\t| 0.000\t| 0.000\t| 02.066\t| 02.267\t|\n",
      "wlan.fc.ds_0x00000003  | 0.001\t| 0.000\t| 0.000\t| 31.552\t| 993.501\t|\n",
      "wlan.fc.frag_0.0       | 0.999\t| 1.000\t| 1.000\t| -34.822\t| 1210.566\t|\n",
      "wlan.fc.type_0.0       | 0.010\t| 0.000\t| 0.000\t| 09.878\t| 95.578\t|\n",
      "Label                  | 0.064\t| 0.000\t| 0.000\t| 03.552\t| 10.618\t|\n"
     ]
    }
   ],
   "source": [
    "from scipy.stats import skew, kurtosis\n",
    "\n",
    "max_len = max([len(c) for c in awid_df.columns])\n",
    "\n",
    "print(f'column{(max_len-6)*\" \"} | average\\t|median\\t| mode\\t| skewness\\t| kurtosis\\t|'.upper())\n",
    "print(100*'-')\n",
    "for c in awid_df:\n",
    "    print(f'{c}{(max_len-len(c))*\" \"} | {awid_df[c].mean():.03f}\\t| {awid_df[c].median():05.03f}\\t| {awid_df[c].mode()[0]:.03f}\\t| {skew(awid_df[c]):06.03f}\\t| {kurtosis(awid_df[c]):06.03f}\\t|')"
   ]
  },
  {
   "cell_type": "markdown",
   "metadata": {
    "id": "XRszAZKk_5Z8"
   },
   "source": [
    "## Correlation Matrix"
   ]
  },
  {
   "cell_type": "code",
   "execution_count": 8,
   "metadata": {
    "colab": {
     "base_uri": "https://localhost:8080/",
     "height": 1000
    },
    "id": "o9ac7xAv8zan",
    "outputId": "8c75f37b-7d93-45d4-c1a0-6bff88e2b89e"
   },
   "outputs": [],
   "source": [
    "import matplotlib.pyplot as plt\n",
    "import seaborn as sns\n",
    "\n",
    "# Correlation matrix\n",
    "awid_cm = awid_df.corr()\n",
    "\n",
    "# Plot heatmap\n",
    "fig, ax = plt.subplots(figsize=(10,10))         # Sample figsize in inches\n",
    "fig.suptitle(\"Heatmap for the Correlation Matrix\", fontsize='xx-large', fontweight='bold')\n",
    "__ = sns.heatmap(awid_cm)"
   ]
  },
  {
   "cell_type": "code",
   "execution_count": 9,
   "metadata": {
    "colab": {
     "base_uri": "https://localhost:8080/"
    },
    "id": "LwztCRD67rcz",
    "outputId": "d11a8944-c5d8-43bb-e1b9-a8ce78275114"
   },
   "outputs": [
    {
     "name": "stdout",
     "output_type": "stream",
     "text": [
      "****************************************************************************************************\n",
      "GREATEST ABSOLUTE CORRELATIONS ON DATASET:\n",
      "****************************************************************************************************\n",
      "                    HIGHLY CORRELATED\n",
      "wlan.fc.protected_0.0 , radiotap.length       :\t-0.835\n",
      "wlan.fc.subtype_14.0  , radiotap.length       :\t+0.917\n",
      "wlan.fc.subtype_14.0  , wlan.fc.protected_0.0 :\t-0.865\n",
      "wlan.fc.ds_0x00000001 , wlan.fc.subtype_14.0  :\t+0.719\n",
      "****************************************************************************************************\n",
      "               CONSIDERABLY CORRELATED\n",
      "radiotap.length       , frame.len             :\t+0.606\n",
      "wlan.fc.protected_0.0 , frame.len             :\t-0.597\n",
      "wlan.fc.subtype_14.0  , frame.len             :\t+0.630\n",
      "wlan.fc.subtype_4.0   , radiotap.length       :\t-0.632\n",
      "wlan.fc.subtype_4.0   , wlan.fc.protected_0.0 :\t+0.615\n",
      "wlan.fc.subtype_4.0   , wlan.fc.subtype_14.0  :\t-0.687\n",
      "wlan.fc.ds_0x00000001 , radiotap.length       :\t+0.671\n",
      "wlan.fc.ds_0x00000001 , wlan.fc.protected_0.0 :\t-0.695\n",
      "wlan.fc.ds_0x00000001 , wlan.fc.subtype_4.0   :\t-0.503\n",
      "****************************************************************************************************\n",
      "               NOT MUCH CORRELATED\n",
      "wlan.fc.subtype_0.0   , wlan.fc.moredata_0.0  :\t-0.404\n",
      "wlan.fc.subtype_14.0  , wlan.duration         :\t-0.404\n",
      "wlan.fc.subtype_3.0   , wlan.fc.subtype_14.0  :\t-0.414\n",
      "wlan.fc.subtype_4.0   , frame.len             :\t-0.446\n"
     ]
    }
   ],
   "source": [
    "# correlation greater than 0.5\n",
    "threshold = [0.7, 0.5, 0.4]\n",
    "correlation_classes = ['highly', 'considerably', 'not much']\n",
    "\n",
    "print(100*'*')\n",
    "print('Greatest Absolute Correlations on dataset:'.upper())\n",
    "print(100*'*')\n",
    "\n",
    "max_len = max([len(c) for c in awid_df.columns])\n",
    "highly_corr, medium_corr, little_corr = [],[], []\n",
    "for i, row in enumerate(awid_cm.values):\n",
    "  for j, corr in enumerate(row):\n",
    "    if(i>j): # only considerate half of the matrix (redundance)\n",
    "      i_column_name = awid_df.columns[i]\n",
    "      j_column_name = awid_df.columns[j]\n",
    "\n",
    "      if np.abs(corr)>threshold[0]:\n",
    "        highly_corr.append((i_column_name, j_column_name, corr))\n",
    "      elif np.abs(corr)>threshold[1]:\n",
    "        medium_corr.append((i_column_name, j_column_name, corr))\n",
    "      elif np.abs(corr)>threshold[2]:\n",
    "        little_corr.append((i_column_name, j_column_name, corr))\n",
    "\n",
    "print(20*' '+'Highly correlated'.upper())\n",
    "for corr in highly_corr:\n",
    "  print(f'{corr[0]}{(max_len-len(corr[0]))*\" \"}, {corr[1]}{(max_len-len(corr[1]))*\" \"}:\\t{corr[2]:+.03f}')\n",
    "\n",
    "print(100*'*')\n",
    "print(15*' '+'Considerably correlated'.upper())\n",
    "for corr in medium_corr:\n",
    "  print(f'{corr[0]}{(max_len-len(corr[0]))*\" \"}, {corr[1]}{(max_len-len(corr[1]))*\" \"}:\\t{corr[2]:+.03f}')\n",
    "\n",
    "print(100*'*')\n",
    "print(15*' '+'Not Much correlated'.upper())\n",
    "for corr in little_corr:\n",
    "  print(f'{corr[0]}{(max_len-len(corr[0]))*\" \"}, {corr[1]}{(max_len-len(corr[1]))*\" \"}:\\t{corr[2]:+.03f}')"
   ]
  },
  {
   "cell_type": "markdown",
   "metadata": {},
   "source": [
    "## Scatter Plot"
   ]
  },
  {
   "cell_type": "code",
   "execution_count": 10,
   "metadata": {},
   "outputs": [
    {
     "ename": "IndexError",
     "evalue": "index 16 is out of bounds for axis 0 with size 16",
     "output_type": "error",
     "traceback": [
      "\u001b[0;31m---------------------------------------------------------------------------\u001b[0m",
      "\u001b[0;31mIndexError\u001b[0m                                Traceback (most recent call last)",
      "Cell \u001b[0;32mIn[10], line 7\u001b[0m\n\u001b[1;32m      5\u001b[0m fig\u001b[38;5;241m.\u001b[39msuptitle(\u001b[38;5;124m\"\u001b[39m\u001b[38;5;124mScatter plots for relevant correlated attributes in AWID3 dataset\u001b[39m\u001b[38;5;124m\"\u001b[39m, fontsize\u001b[38;5;241m=\u001b[39m\u001b[38;5;124m'\u001b[39m\u001b[38;5;124mxx-large\u001b[39m\u001b[38;5;124m'\u001b[39m, fontweight\u001b[38;5;241m=\u001b[39m\u001b[38;5;124m'\u001b[39m\u001b[38;5;124mbold\u001b[39m\u001b[38;5;124m'\u001b[39m)\n\u001b[1;32m      6\u001b[0m \u001b[38;5;28;01mfor\u001b[39;00m i, line \u001b[38;5;129;01min\u001b[39;00m \u001b[38;5;28menumerate\u001b[39m(corr):\n\u001b[0;32m----> 7\u001b[0m     a \u001b[38;5;241m=\u001b[39m \u001b[43maxs\u001b[49m\u001b[43m[\u001b[49m\u001b[43mi\u001b[49m\u001b[43m]\u001b[49m\n\u001b[1;32m      8\u001b[0m     column_1 \u001b[38;5;241m=\u001b[39m \u001b[38;5;28mlist\u001b[39m(awid_df[corr[i][\u001b[38;5;241m0\u001b[39m]])\n\u001b[1;32m      9\u001b[0m     column_2 \u001b[38;5;241m=\u001b[39m \u001b[38;5;28mlist\u001b[39m(awid_df[corr[i][\u001b[38;5;241m1\u001b[39m]])\n",
      "\u001b[0;31mIndexError\u001b[0m: index 16 is out of bounds for axis 0 with size 16"
     ]
    }
   ],
   "source": [
    "corr = np.concatenate((highly_corr, medium_corr, little_corr))\n",
    "fig, axs = plt.subplots(len(corr)//4,4, figsize=(10, 10))\n",
    "axs = axs.ravel()\n",
    "\n",
    "fig.suptitle(\"Scatter plots for relevant correlated attributes in AWID3 dataset\", fontsize='xx-large', fontweight='bold')\n",
    "for i, line in enumerate(corr):\n",
    "    a = axs[i]\n",
    "    column_1 = list(awid_df[corr[i][0]])\n",
    "    column_2 = list(awid_df[corr[i][1]])\n",
    "    a.grid(True)\n",
    "    a.scatter(column_1, column_2, label=awid_df['Label'], c=awid_df['Label'])\n",
    "    #a.set_title(f'{corr[i][0]} x {corr[i][1]}')\n",
    "    a.set_xlabel(f'{corr[i][0]}')\n",
    "    a.set_ylabel(f'{corr[i][1]}')\n",
    "plt.tight_layout()"
   ]
  },
  {
   "cell_type": "markdown",
   "metadata": {
    "id": "6VeZ3-1tLvYh"
   },
   "source": [
    "## Histograms"
   ]
  },
  {
   "cell_type": "code",
   "execution_count": 11,
   "metadata": {
    "colab": {
     "base_uri": "https://localhost:8080/",
     "height": 1000
    },
    "id": "U7S7-LGmLySZ",
    "outputId": "9e98eee2-a9c6-45e0-da9e-aedc2545aded"
   },
   "outputs": [],
   "source": [
    "fig, axs = plt.subplots(len(awid_df.columns)//3,3, figsize=(10, 10))\n",
    "axs = axs.ravel()\n",
    "\n",
    "fig.suptitle(\"Histograms for each useful attribute in AWID3 dataset\", fontsize='xx-large', fontweight='bold')\n",
    "for i, a in enumerate(axs): # plotting each attribute's histogram \n",
    "  column_name = awid_df.columns[i]\n",
    "  a.set_title(column_name)\n",
    "  plt.rc('grid', linestyle=\"--\", color='gray')\n",
    "  a.grid(True)\n",
    "  a.hist(awid_df[column_name], bins=20)\n",
    "plt.tight_layout()"
   ]
  },
  {
   "cell_type": "markdown",
   "metadata": {
    "id": "ZQUIa8hoRUOE"
   },
   "source": [
    "## Boxplot"
   ]
  },
  {
   "cell_type": "code",
   "execution_count": 12,
   "metadata": {
    "colab": {
     "base_uri": "https://localhost:8080/",
     "height": 1000
    },
    "id": "7D4QRjYjRVfg",
    "outputId": "1f6c37ff-9aee-452a-83d6-96879056d7fd"
   },
   "outputs": [],
   "source": [
    "fig, axs = plt.subplots(len(awid_df.columns)//3,3, figsize=(12, 12))\n",
    "axs = axs.ravel()\n",
    "\n",
    "fig.suptitle(\"Boxplot for each useful attribute in AWID3 dataset\", fontsize='xx-large', fontweight='bold')\n",
    "for i, a in enumerate(axs): # plotting each attribute's histogram \n",
    "  column_name = awid_df.columns[i]\n",
    "  a.set_title(column_name)\n",
    "  plt.rc('grid', linestyle=\"--\", color='gray')\n",
    "  a.grid(True)\n",
    "  a.boxplot(awid_df[column_name])\n",
    "plt.tight_layout()"
   ]
  },
  {
   "cell_type": "markdown",
   "metadata": {},
   "source": [
    "## Outliers"
   ]
  },
  {
   "cell_type": "code",
   "execution_count": 13,
   "metadata": {
    "colab": {
     "base_uri": "https://localhost:8080/",
     "height": 1000
    },
    "id": "kVl4hWRbR2bN",
    "outputId": "40408881-1f25-4b0b-dc3c-10fe66f837ad"
   },
   "outputs": [],
   "source": [
    "# Exibindo os outliers de cada atributo\n",
    "max_len = max([len(c) for c in awid_df.columns])\n",
    "to_plot = []\n",
    "for i, c in enumerate(awid_df.columns):\n",
    "    num_outliers = len(find_outliers(awid_df[c]))\n",
    "    to_plot.append(num_outliers)\n",
    "\n",
    "fig, ax = plt.subplots(1,1, figsize=(5, 5))\n",
    "fig.suptitle(\"Outliers by each useful attribute in AWID3 dataset\", fontsize='large', fontweight='bold')\n",
    "__ = ax.bar([x for x in range(len(to_plot))], to_plot )\n",
    "ax.grid(True)\n",
    "# Set number of ticks for x-axis\n",
    "__ = ax.set_xticks([x for x in range(len(to_plot))])\n",
    "# Set ticks labels for x-axis\n",
    "__ = ax.set_xticklabels(list(awid_df.columns), rotation='vertical')"
   ]
  },
  {
   "cell_type": "code",
   "execution_count": null,
   "metadata": {},
   "outputs": [],
   "source": []
  }
 ],
 "metadata": {
  "colab": {
   "provenance": []
  },
  "kernelspec": {
   "display_name": "Python 3 (ipykernel)",
   "language": "python",
   "name": "python3"
  },
  "language_info": {
   "codemirror_mode": {
    "name": "ipython",
    "version": 3
   },
   "file_extension": ".py",
   "mimetype": "text/x-python",
   "name": "python",
   "nbconvert_exporter": "python",
   "pygments_lexer": "ipython3",
   "version": "3.10.6"
  }
 },
 "nbformat": 4,
 "nbformat_minor": 1
}
